{
  "nbformat": 4,
  "nbformat_minor": 0,
  "metadata": {
    "colab": {
      "provenance": [],
      "authorship_tag": "ABX9TyNWvCtE8S5uX1DfW2W85xrj",
      "include_colab_link": true
    },
    "kernelspec": {
      "name": "python3",
      "display_name": "Python 3"
    },
    "language_info": {
      "name": "python"
    }
  },
  "cells": [
    {
      "cell_type": "markdown",
      "metadata": {
        "id": "view-in-github",
        "colab_type": "text"
      },
      "source": [
        "<a href=\"https://colab.research.google.com/github/mojtabaSefidi/Code_Review_Recommenders/blob/main/Github_API.ipynb\" target=\"_parent\"><img src=\"https://colab.research.google.com/assets/colab-badge.svg\" alt=\"Open In Colab\"/></a>"
      ]
    },
    {
      "cell_type": "code",
      "execution_count": 1,
      "metadata": {
        "colab": {
          "base_uri": "https://localhost:8080/"
        },
        "id": "7Cs-rVHe72M0",
        "outputId": "cfb4ea28-b46e-4070-c855-e86aea17adbf"
      },
      "outputs": [
        {
          "output_type": "stream",
          "name": "stdout",
          "text": [
            "Cloning into 'runtime'...\n",
            "remote: Enumerating objects: 2273413, done.\u001b[K\n",
            "remote: Counting objects: 100% (566/566), done.\u001b[K\n",
            "remote: Compressing objects: 100% (449/449), done.\u001b[K\n",
            "remote: Total 2273413 (delta 248), reused 293 (delta 106), pack-reused 2272847\u001b[K\n",
            "Receiving objects: 100% (2273413/2273413), 771.38 MiB | 20.00 MiB/s, done.\n",
            "Resolving deltas: 100% (1673790/1673790), done.\n",
            "Updating files: 100% (58606/58606), done.\n"
          ]
        }
      ],
      "source": [
        "!git clone https://github.com/dotnet/runtime.git"
      ]
    },
    {
      "cell_type": "code",
      "source": [
        "# https://github.com/dotnet/runtime"
      ],
      "metadata": {
        "id": "8MktYU2fEFUy"
      },
      "execution_count": null,
      "outputs": []
    },
    {
      "cell_type": "code",
      "source": [
        "import requests\n",
        "\n",
        "username = \"dotnet\" # github username\n",
        "url = f\"https://api.github.com/users/{username}\"\n",
        "user_data = requests.get(url)\n"
      ],
      "metadata": {
        "id": "Ys7qWkwa8hSx"
      },
      "execution_count": 2,
      "outputs": []
    },
    {
      "cell_type": "code",
      "source": [
        "for key, value in user_data.json().items():\n",
        "  print(key, ':', value)"
      ],
      "metadata": {
        "colab": {
          "base_uri": "https://localhost:8080/"
        },
        "id": "5jQqnb2e-SyS",
        "outputId": "602500b4-a0a0-4307-eb64-5d49ec319ddc"
      },
      "execution_count": 3,
      "outputs": [
        {
          "output_type": "stream",
          "name": "stdout",
          "text": [
            "login : dotnet\n",
            "id : 9141961\n",
            "node_id : MDEyOk9yZ2FuaXphdGlvbjkxNDE5NjE=\n",
            "avatar_url : https://avatars.githubusercontent.com/u/9141961?v=4\n",
            "gravatar_id : \n",
            "url : https://api.github.com/users/dotnet\n",
            "html_url : https://github.com/dotnet\n",
            "followers_url : https://api.github.com/users/dotnet/followers\n",
            "following_url : https://api.github.com/users/dotnet/following{/other_user}\n",
            "gists_url : https://api.github.com/users/dotnet/gists{/gist_id}\n",
            "starred_url : https://api.github.com/users/dotnet/starred{/owner}{/repo}\n",
            "subscriptions_url : https://api.github.com/users/dotnet/subscriptions\n",
            "organizations_url : https://api.github.com/users/dotnet/orgs\n",
            "repos_url : https://api.github.com/users/dotnet/repos\n",
            "events_url : https://api.github.com/users/dotnet/events{/privacy}\n",
            "received_events_url : https://api.github.com/users/dotnet/received_events\n",
            "type : Organization\n",
            "site_admin : False\n",
            "name : .NET Platform\n",
            "company : None\n",
            "blog : https://dot.net\n",
            "location : None\n",
            "email : contact@dotnetfoundation.org\n",
            "hireable : None\n",
            "bio : Home of the open source .NET platform\n",
            "twitter_username : dotnetfdn\n",
            "public_repos : 252\n",
            "public_gists : 0\n",
            "followers : 14404\n",
            "following : 0\n",
            "created_at : 2014-10-10T20:31:36Z\n",
            "updated_at : 2020-11-17T20:32:49Z\n"
          ]
        }
      ]
    },
    {
      "cell_type": "code",
      "source": [
        "import requests\n",
        "\n",
        "base_url = \"https://api.github.com\"\n",
        "\n",
        "def get_user_repos(username):\n",
        "    url = f\"{base_url}/users/{username}/repos\"\n",
        "\n",
        "    query_params = {\n",
        "        \"sort\": \"updated\",\n",
        "        \"per_page\": 5\n",
        "    }\n",
        "\n",
        "    response = requests.get(url, params=query_params)\n",
        "\n",
        "    if response.status_code == 200:\n",
        "        repositories_data = response.json()\n",
        "        return repositories_data\n",
        "    else:\n",
        "        return None\n",
        "\n",
        "username = \"dotnet\"\n",
        "\n",
        "user_repos = get_user_repos(username)\n",
        "if user_repos:\n",
        "    print(f\"Repositories of {username}:\")\n",
        "    for repo in user_repos:\n",
        "        print(repo[\"name\"])\n",
        "else:\n",
        "    print(f\"Failed to retrieve repositories.\")"
      ],
      "metadata": {
        "colab": {
          "base_uri": "https://localhost:8080/"
        },
        "id": "HEegk4YV-euy",
        "outputId": "05f305f7-d32f-41c6-842e-9eb603a37d35"
      },
      "execution_count": 4,
      "outputs": [
        {
          "output_type": "stream",
          "name": "stdout",
          "text": [
            "Repositories of dotnet:\n",
            "runtime\n",
            "workload-versions\n",
            "arcade\n",
            "orleans\n",
            "csharpstandard\n"
          ]
        }
      ]
    },
    {
      "cell_type": "code",
      "source": [
        "'https://api.github.com/repos/dotnet/runtime/pulls?page=1&per_page=1000\"'"
      ],
      "metadata": {
        "colab": {
          "base_uri": "https://localhost:8080/",
          "height": 105
        },
        "id": "U45g4xeKFUNK",
        "outputId": "65bd9fbf-aca8-4383-f09a-f2391f18bde4"
      },
      "execution_count": 6,
      "outputs": [
        {
          "output_type": "error",
          "ename": "SyntaxError",
          "evalue": "invalid syntax (<ipython-input-6-f64e45c71dee>, line 1)",
          "traceback": [
            "\u001b[0;36m  File \u001b[0;32m\"<ipython-input-6-f64e45c71dee>\"\u001b[0;36m, line \u001b[0;32m1\u001b[0m\n\u001b[0;31m    https://api.github.com/repos/dotnet/runtime/pulls\u001b[0m\n\u001b[0m          ^\u001b[0m\n\u001b[0;31mSyntaxError\u001b[0m\u001b[0;31m:\u001b[0m invalid syntax\n"
          ]
        }
      ]
    },
    {
      "cell_type": "code",
      "source": [
        "repo = user_repos[0]\n",
        "repo"
      ],
      "metadata": {
        "colab": {
          "base_uri": "https://localhost:8080/"
        },
        "id": "_94e-hw8GpdB",
        "outputId": "0074a260-c6d5-45fd-8e3e-42a7fc8f1698"
      },
      "execution_count": 13,
      "outputs": [
        {
          "output_type": "execute_result",
          "data": {
            "text/plain": [
              "{'id': 210716005,\n",
              " 'node_id': 'MDEwOlJlcG9zaXRvcnkyMTA3MTYwMDU=',\n",
              " 'name': 'runtime',\n",
              " 'full_name': 'dotnet/runtime',\n",
              " 'private': False,\n",
              " 'owner': {'login': 'dotnet',\n",
              "  'id': 9141961,\n",
              "  'node_id': 'MDEyOk9yZ2FuaXphdGlvbjkxNDE5NjE=',\n",
              "  'avatar_url': 'https://avatars.githubusercontent.com/u/9141961?v=4',\n",
              "  'gravatar_id': '',\n",
              "  'url': 'https://api.github.com/users/dotnet',\n",
              "  'html_url': 'https://github.com/dotnet',\n",
              "  'followers_url': 'https://api.github.com/users/dotnet/followers',\n",
              "  'following_url': 'https://api.github.com/users/dotnet/following{/other_user}',\n",
              "  'gists_url': 'https://api.github.com/users/dotnet/gists{/gist_id}',\n",
              "  'starred_url': 'https://api.github.com/users/dotnet/starred{/owner}{/repo}',\n",
              "  'subscriptions_url': 'https://api.github.com/users/dotnet/subscriptions',\n",
              "  'organizations_url': 'https://api.github.com/users/dotnet/orgs',\n",
              "  'repos_url': 'https://api.github.com/users/dotnet/repos',\n",
              "  'events_url': 'https://api.github.com/users/dotnet/events{/privacy}',\n",
              "  'received_events_url': 'https://api.github.com/users/dotnet/received_events',\n",
              "  'type': 'Organization',\n",
              "  'site_admin': False},\n",
              " 'html_url': 'https://github.com/dotnet/runtime',\n",
              " 'description': '.NET is a cross-platform runtime for cloud, mobile, desktop, and IoT apps.',\n",
              " 'fork': False,\n",
              " 'url': 'https://api.github.com/repos/dotnet/runtime',\n",
              " 'forks_url': 'https://api.github.com/repos/dotnet/runtime/forks',\n",
              " 'keys_url': 'https://api.github.com/repos/dotnet/runtime/keys{/key_id}',\n",
              " 'collaborators_url': 'https://api.github.com/repos/dotnet/runtime/collaborators{/collaborator}',\n",
              " 'teams_url': 'https://api.github.com/repos/dotnet/runtime/teams',\n",
              " 'hooks_url': 'https://api.github.com/repos/dotnet/runtime/hooks',\n",
              " 'issue_events_url': 'https://api.github.com/repos/dotnet/runtime/issues/events{/number}',\n",
              " 'events_url': 'https://api.github.com/repos/dotnet/runtime/events',\n",
              " 'assignees_url': 'https://api.github.com/repos/dotnet/runtime/assignees{/user}',\n",
              " 'branches_url': 'https://api.github.com/repos/dotnet/runtime/branches{/branch}',\n",
              " 'tags_url': 'https://api.github.com/repos/dotnet/runtime/tags',\n",
              " 'blobs_url': 'https://api.github.com/repos/dotnet/runtime/git/blobs{/sha}',\n",
              " 'git_tags_url': 'https://api.github.com/repos/dotnet/runtime/git/tags{/sha}',\n",
              " 'git_refs_url': 'https://api.github.com/repos/dotnet/runtime/git/refs{/sha}',\n",
              " 'trees_url': 'https://api.github.com/repos/dotnet/runtime/git/trees{/sha}',\n",
              " 'statuses_url': 'https://api.github.com/repos/dotnet/runtime/statuses/{sha}',\n",
              " 'languages_url': 'https://api.github.com/repos/dotnet/runtime/languages',\n",
              " 'stargazers_url': 'https://api.github.com/repos/dotnet/runtime/stargazers',\n",
              " 'contributors_url': 'https://api.github.com/repos/dotnet/runtime/contributors',\n",
              " 'subscribers_url': 'https://api.github.com/repos/dotnet/runtime/subscribers',\n",
              " 'subscription_url': 'https://api.github.com/repos/dotnet/runtime/subscription',\n",
              " 'commits_url': 'https://api.github.com/repos/dotnet/runtime/commits{/sha}',\n",
              " 'git_commits_url': 'https://api.github.com/repos/dotnet/runtime/git/commits{/sha}',\n",
              " 'comments_url': 'https://api.github.com/repos/dotnet/runtime/comments{/number}',\n",
              " 'issue_comment_url': 'https://api.github.com/repos/dotnet/runtime/issues/comments{/number}',\n",
              " 'contents_url': 'https://api.github.com/repos/dotnet/runtime/contents/{+path}',\n",
              " 'compare_url': 'https://api.github.com/repos/dotnet/runtime/compare/{base}...{head}',\n",
              " 'merges_url': 'https://api.github.com/repos/dotnet/runtime/merges',\n",
              " 'archive_url': 'https://api.github.com/repos/dotnet/runtime/{archive_format}{/ref}',\n",
              " 'downloads_url': 'https://api.github.com/repos/dotnet/runtime/downloads',\n",
              " 'issues_url': 'https://api.github.com/repos/dotnet/runtime/issues{/number}',\n",
              " 'pulls_url': 'https://api.github.com/repos/dotnet/runtime/pulls{/number}',\n",
              " 'milestones_url': 'https://api.github.com/repos/dotnet/runtime/milestones{/number}',\n",
              " 'notifications_url': 'https://api.github.com/repos/dotnet/runtime/notifications{?since,all,participating}',\n",
              " 'labels_url': 'https://api.github.com/repos/dotnet/runtime/labels{/name}',\n",
              " 'releases_url': 'https://api.github.com/repos/dotnet/runtime/releases{/id}',\n",
              " 'deployments_url': 'https://api.github.com/repos/dotnet/runtime/deployments',\n",
              " 'created_at': '2019-09-24T23:36:39Z',\n",
              " 'updated_at': '2024-05-30T15:11:09Z',\n",
              " 'pushed_at': '2024-05-30T15:16:21Z',\n",
              " 'git_url': 'git://github.com/dotnet/runtime.git',\n",
              " 'ssh_url': 'git@github.com:dotnet/runtime.git',\n",
              " 'clone_url': 'https://github.com/dotnet/runtime.git',\n",
              " 'svn_url': 'https://github.com/dotnet/runtime',\n",
              " 'homepage': 'https://docs.microsoft.com/dotnet/core/',\n",
              " 'size': 790045,\n",
              " 'stargazers_count': 14317,\n",
              " 'watchers_count': 14317,\n",
              " 'language': 'C#',\n",
              " 'has_issues': True,\n",
              " 'has_projects': True,\n",
              " 'has_downloads': True,\n",
              " 'has_wiki': False,\n",
              " 'has_pages': False,\n",
              " 'has_discussions': True,\n",
              " 'forks_count': 4481,\n",
              " 'mirror_url': None,\n",
              " 'archived': False,\n",
              " 'disabled': False,\n",
              " 'open_issues_count': 9247,\n",
              " 'license': {'key': 'mit',\n",
              "  'name': 'MIT License',\n",
              "  'spdx_id': 'MIT',\n",
              "  'url': 'https://api.github.com/licenses/mit',\n",
              "  'node_id': 'MDc6TGljZW5zZTEz'},\n",
              " 'allow_forking': True,\n",
              " 'is_template': False,\n",
              " 'web_commit_signoff_required': False,\n",
              " 'topics': ['dotnet', 'hacktoberfest', 'help-wanted'],\n",
              " 'visibility': 'public',\n",
              " 'forks': 4481,\n",
              " 'open_issues': 9247,\n",
              " 'watchers': 14317,\n",
              " 'default_branch': 'main'}"
            ]
          },
          "metadata": {},
          "execution_count": 13
        }
      ]
    },
    {
      "cell_type": "code",
      "source": [
        "pull_requests = requests.get(\"https://api.github.com/repos/dotnet/runtime/pulls?page=1&per_page=10000\").json()\n",
        "# print(len(pull_requests))\n",
        "page_1 = pull_requests\n",
        "print(len(page_1))"
      ],
      "metadata": {
        "colab": {
          "base_uri": "https://localhost:8080/"
        },
        "collapsed": true,
        "id": "CWUvJxFe_ECL",
        "outputId": "2ebc555e-546b-4d5d-ad19-16a27dc173d1"
      },
      "execution_count": 27,
      "outputs": [
        {
          "output_type": "stream",
          "name": "stdout",
          "text": [
            "100\n"
          ]
        }
      ]
    },
    {
      "cell_type": "code",
      "source": [
        "pull_requests = requests.get(\"https://api.github.com/repos/dotnet/runtime/pulls?page=2&per_page=10000\").json()\n",
        "# print(len(pull_requests))\n",
        "page_2 = pull_requests\n",
        "print(len(page_2))"
      ],
      "metadata": {
        "colab": {
          "base_uri": "https://localhost:8080/"
        },
        "id": "erO11i4_IkEN",
        "outputId": "08255ef0-1aa8-40ff-c4a3-fc7616819bdc"
      },
      "execution_count": 28,
      "outputs": [
        {
          "output_type": "stream",
          "name": "stdout",
          "text": [
            "100\n"
          ]
        }
      ]
    },
    {
      "cell_type": "code",
      "source": [
        "page_1 == page_2"
      ],
      "metadata": {
        "colab": {
          "base_uri": "https://localhost:8080/"
        },
        "id": "vW0EGc2XImvM",
        "outputId": "dfe4029f-a3e6-4931-c95c-1abbc8dacff2"
      },
      "execution_count": 29,
      "outputs": [
        {
          "output_type": "execute_result",
          "data": {
            "text/plain": [
              "False"
            ]
          },
          "metadata": {},
          "execution_count": 29
        }
      ]
    },
    {
      "cell_type": "code",
      "source": [
        "pull_requests = requests.get(\"https://api.github.com/repos/dotnet/runtime/pulls?page=3&per_page=10000\").json()\n",
        "# print(len(pull_requests))\n",
        "page_3 = pull_requests\n",
        "print(len(page_3))"
      ],
      "metadata": {
        "colab": {
          "base_uri": "https://localhost:8080/"
        },
        "id": "tgsd9DSUIwKy",
        "outputId": "5dd7e323-6bff-4057-9fd5-25242cce8c19"
      },
      "execution_count": 30,
      "outputs": [
        {
          "output_type": "stream",
          "name": "stdout",
          "text": [
            "96\n"
          ]
        }
      ]
    },
    {
      "cell_type": "code",
      "source": [
        "x  = requests.get('https://api.github.com/repos/dotnet/runtime/commits').json()\n",
        "len(x)"
      ],
      "metadata": {
        "colab": {
          "base_uri": "https://localhost:8080/"
        },
        "id": "Xr8s_6PVHEcq",
        "outputId": "d276244b-23d6-4adf-bc99-fd649d0a28c2"
      },
      "execution_count": 21,
      "outputs": [
        {
          "output_type": "execute_result",
          "data": {
            "text/plain": [
              "30"
            ]
          },
          "metadata": {},
          "execution_count": 21
        }
      ]
    },
    {
      "cell_type": "code",
      "source": [],
      "metadata": {
        "colab": {
          "base_uri": "https://localhost:8080/"
        },
        "id": "p6OasedqBMnx",
        "outputId": "d605470e-8666-46b1-a60e-cdce23c26140"
      },
      "execution_count": 12,
      "outputs": [
        {
          "output_type": "execute_result",
          "data": {
            "text/plain": [
              "{'url': 'https://api.github.com/repos/dotnet/runtime/pulls/102884',\n",
              " 'id': 1896265624,\n",
              " 'node_id': 'PR_kwDODI9FZc5xBreY',\n",
              " 'html_url': 'https://github.com/dotnet/runtime/pull/102884',\n",
              " 'diff_url': 'https://github.com/dotnet/runtime/pull/102884.diff',\n",
              " 'patch_url': 'https://github.com/dotnet/runtime/pull/102884.patch',\n",
              " 'issue_url': 'https://api.github.com/repos/dotnet/runtime/issues/102884',\n",
              " 'number': 102884,\n",
              " 'state': 'open',\n",
              " 'locked': False,\n",
              " 'title': 'Add fast path for linq count with predicate',\n",
              " 'user': {'login': 'neon-sunset',\n",
              "  'id': 20912188,\n",
              "  'node_id': 'MDQ6VXNlcjIwOTEyMTg4',\n",
              "  'avatar_url': 'https://avatars.githubusercontent.com/u/20912188?v=4',\n",
              "  'gravatar_id': '',\n",
              "  'url': 'https://api.github.com/users/neon-sunset',\n",
              "  'html_url': 'https://github.com/neon-sunset',\n",
              "  'followers_url': 'https://api.github.com/users/neon-sunset/followers',\n",
              "  'following_url': 'https://api.github.com/users/neon-sunset/following{/other_user}',\n",
              "  'gists_url': 'https://api.github.com/users/neon-sunset/gists{/gist_id}',\n",
              "  'starred_url': 'https://api.github.com/users/neon-sunset/starred{/owner}{/repo}',\n",
              "  'subscriptions_url': 'https://api.github.com/users/neon-sunset/subscriptions',\n",
              "  'organizations_url': 'https://api.github.com/users/neon-sunset/orgs',\n",
              "  'repos_url': 'https://api.github.com/users/neon-sunset/repos',\n",
              "  'events_url': 'https://api.github.com/users/neon-sunset/events{/privacy}',\n",
              "  'received_events_url': 'https://api.github.com/users/neon-sunset/received_events',\n",
              "  'type': 'User',\n",
              "  'site_admin': False},\n",
              " 'body': 'A simple change to take fast path when the source is span-able. Also move non-span loop to a local function to make it easier for the JIT to inline the method alongside the lambda, when available, per callsite, avoiding a single lambda only devirtualization due to the loop not being inlined.',\n",
              " 'created_at': '2024-05-30T15:21:47Z',\n",
              " 'updated_at': '2024-05-30T15:22:22Z',\n",
              " 'closed_at': None,\n",
              " 'merged_at': None,\n",
              " 'merge_commit_sha': '6ac0cac3e2f830a8a70c30134589e120955f4efa',\n",
              " 'assignee': None,\n",
              " 'assignees': [],\n",
              " 'requested_reviewers': [],\n",
              " 'requested_teams': [],\n",
              " 'labels': [{'id': 1675385745,\n",
              "   'node_id': 'MDU6TGFiZWwxNjc1Mzg1NzQ1',\n",
              "   'url': 'https://api.github.com/repos/dotnet/runtime/labels/area-System.Linq',\n",
              "   'name': 'area-System.Linq',\n",
              "   'color': 'd4c5f9',\n",
              "   'default': False,\n",
              "   'description': None},\n",
              "  {'id': 3182826998,\n",
              "   'node_id': 'MDU6TGFiZWwzMTgyODI2OTk4',\n",
              "   'url': 'https://api.github.com/repos/dotnet/runtime/labels/community-contribution',\n",
              "   'name': 'community-contribution',\n",
              "   'color': 'c2e0c6',\n",
              "   'default': False,\n",
              "   'description': 'Indicates that the PR has been added by a community member'}],\n",
              " 'milestone': None,\n",
              " 'draft': False,\n",
              " 'commits_url': 'https://api.github.com/repos/dotnet/runtime/pulls/102884/commits',\n",
              " 'review_comments_url': 'https://api.github.com/repos/dotnet/runtime/pulls/102884/comments',\n",
              " 'review_comment_url': 'https://api.github.com/repos/dotnet/runtime/pulls/comments{/number}',\n",
              " 'comments_url': 'https://api.github.com/repos/dotnet/runtime/issues/102884/comments',\n",
              " 'statuses_url': 'https://api.github.com/repos/dotnet/runtime/statuses/bc38cb307143282ddf7ba761bc02f64b7c0188da',\n",
              " 'head': {'label': 'neon-sunset:count-opt',\n",
              "  'ref': 'count-opt',\n",
              "  'sha': 'bc38cb307143282ddf7ba761bc02f64b7c0188da',\n",
              "  'user': {'login': 'neon-sunset',\n",
              "   'id': 20912188,\n",
              "   'node_id': 'MDQ6VXNlcjIwOTEyMTg4',\n",
              "   'avatar_url': 'https://avatars.githubusercontent.com/u/20912188?v=4',\n",
              "   'gravatar_id': '',\n",
              "   'url': 'https://api.github.com/users/neon-sunset',\n",
              "   'html_url': 'https://github.com/neon-sunset',\n",
              "   'followers_url': 'https://api.github.com/users/neon-sunset/followers',\n",
              "   'following_url': 'https://api.github.com/users/neon-sunset/following{/other_user}',\n",
              "   'gists_url': 'https://api.github.com/users/neon-sunset/gists{/gist_id}',\n",
              "   'starred_url': 'https://api.github.com/users/neon-sunset/starred{/owner}{/repo}',\n",
              "   'subscriptions_url': 'https://api.github.com/users/neon-sunset/subscriptions',\n",
              "   'organizations_url': 'https://api.github.com/users/neon-sunset/orgs',\n",
              "   'repos_url': 'https://api.github.com/users/neon-sunset/repos',\n",
              "   'events_url': 'https://api.github.com/users/neon-sunset/events{/privacy}',\n",
              "   'received_events_url': 'https://api.github.com/users/neon-sunset/received_events',\n",
              "   'type': 'User',\n",
              "   'site_admin': False},\n",
              "  'repo': {'id': 439132713,\n",
              "   'node_id': 'R_kgDOGiyiKQ',\n",
              "   'name': 'runtime',\n",
              "   'full_name': 'neon-sunset/runtime',\n",
              "   'private': False,\n",
              "   'owner': {'login': 'neon-sunset',\n",
              "    'id': 20912188,\n",
              "    'node_id': 'MDQ6VXNlcjIwOTEyMTg4',\n",
              "    'avatar_url': 'https://avatars.githubusercontent.com/u/20912188?v=4',\n",
              "    'gravatar_id': '',\n",
              "    'url': 'https://api.github.com/users/neon-sunset',\n",
              "    'html_url': 'https://github.com/neon-sunset',\n",
              "    'followers_url': 'https://api.github.com/users/neon-sunset/followers',\n",
              "    'following_url': 'https://api.github.com/users/neon-sunset/following{/other_user}',\n",
              "    'gists_url': 'https://api.github.com/users/neon-sunset/gists{/gist_id}',\n",
              "    'starred_url': 'https://api.github.com/users/neon-sunset/starred{/owner}{/repo}',\n",
              "    'subscriptions_url': 'https://api.github.com/users/neon-sunset/subscriptions',\n",
              "    'organizations_url': 'https://api.github.com/users/neon-sunset/orgs',\n",
              "    'repos_url': 'https://api.github.com/users/neon-sunset/repos',\n",
              "    'events_url': 'https://api.github.com/users/neon-sunset/events{/privacy}',\n",
              "    'received_events_url': 'https://api.github.com/users/neon-sunset/received_events',\n",
              "    'type': 'User',\n",
              "    'site_admin': False},\n",
              "   'html_url': 'https://github.com/neon-sunset/runtime',\n",
              "   'description': '.NET is a cross-platform runtime for cloud, mobile, desktop, and IoT apps.',\n",
              "   'fork': True,\n",
              "   'url': 'https://api.github.com/repos/neon-sunset/runtime',\n",
              "   'forks_url': 'https://api.github.com/repos/neon-sunset/runtime/forks',\n",
              "   'keys_url': 'https://api.github.com/repos/neon-sunset/runtime/keys{/key_id}',\n",
              "   'collaborators_url': 'https://api.github.com/repos/neon-sunset/runtime/collaborators{/collaborator}',\n",
              "   'teams_url': 'https://api.github.com/repos/neon-sunset/runtime/teams',\n",
              "   'hooks_url': 'https://api.github.com/repos/neon-sunset/runtime/hooks',\n",
              "   'issue_events_url': 'https://api.github.com/repos/neon-sunset/runtime/issues/events{/number}',\n",
              "   'events_url': 'https://api.github.com/repos/neon-sunset/runtime/events',\n",
              "   'assignees_url': 'https://api.github.com/repos/neon-sunset/runtime/assignees{/user}',\n",
              "   'branches_url': 'https://api.github.com/repos/neon-sunset/runtime/branches{/branch}',\n",
              "   'tags_url': 'https://api.github.com/repos/neon-sunset/runtime/tags',\n",
              "   'blobs_url': 'https://api.github.com/repos/neon-sunset/runtime/git/blobs{/sha}',\n",
              "   'git_tags_url': 'https://api.github.com/repos/neon-sunset/runtime/git/tags{/sha}',\n",
              "   'git_refs_url': 'https://api.github.com/repos/neon-sunset/runtime/git/refs{/sha}',\n",
              "   'trees_url': 'https://api.github.com/repos/neon-sunset/runtime/git/trees{/sha}',\n",
              "   'statuses_url': 'https://api.github.com/repos/neon-sunset/runtime/statuses/{sha}',\n",
              "   'languages_url': 'https://api.github.com/repos/neon-sunset/runtime/languages',\n",
              "   'stargazers_url': 'https://api.github.com/repos/neon-sunset/runtime/stargazers',\n",
              "   'contributors_url': 'https://api.github.com/repos/neon-sunset/runtime/contributors',\n",
              "   'subscribers_url': 'https://api.github.com/repos/neon-sunset/runtime/subscribers',\n",
              "   'subscription_url': 'https://api.github.com/repos/neon-sunset/runtime/subscription',\n",
              "   'commits_url': 'https://api.github.com/repos/neon-sunset/runtime/commits{/sha}',\n",
              "   'git_commits_url': 'https://api.github.com/repos/neon-sunset/runtime/git/commits{/sha}',\n",
              "   'comments_url': 'https://api.github.com/repos/neon-sunset/runtime/comments{/number}',\n",
              "   'issue_comment_url': 'https://api.github.com/repos/neon-sunset/runtime/issues/comments{/number}',\n",
              "   'contents_url': 'https://api.github.com/repos/neon-sunset/runtime/contents/{+path}',\n",
              "   'compare_url': 'https://api.github.com/repos/neon-sunset/runtime/compare/{base}...{head}',\n",
              "   'merges_url': 'https://api.github.com/repos/neon-sunset/runtime/merges',\n",
              "   'archive_url': 'https://api.github.com/repos/neon-sunset/runtime/{archive_format}{/ref}',\n",
              "   'downloads_url': 'https://api.github.com/repos/neon-sunset/runtime/downloads',\n",
              "   'issues_url': 'https://api.github.com/repos/neon-sunset/runtime/issues{/number}',\n",
              "   'pulls_url': 'https://api.github.com/repos/neon-sunset/runtime/pulls{/number}',\n",
              "   'milestones_url': 'https://api.github.com/repos/neon-sunset/runtime/milestones{/number}',\n",
              "   'notifications_url': 'https://api.github.com/repos/neon-sunset/runtime/notifications{?since,all,participating}',\n",
              "   'labels_url': 'https://api.github.com/repos/neon-sunset/runtime/labels{/name}',\n",
              "   'releases_url': 'https://api.github.com/repos/neon-sunset/runtime/releases{/id}',\n",
              "   'deployments_url': 'https://api.github.com/repos/neon-sunset/runtime/deployments',\n",
              "   'created_at': '2021-12-16T21:33:26Z',\n",
              "   'updated_at': '2024-05-28T14:12:35Z',\n",
              "   'pushed_at': '2024-05-30T15:17:20Z',\n",
              "   'git_url': 'git://github.com/neon-sunset/runtime.git',\n",
              "   'ssh_url': 'git@github.com:neon-sunset/runtime.git',\n",
              "   'clone_url': 'https://github.com/neon-sunset/runtime.git',\n",
              "   'svn_url': 'https://github.com/neon-sunset/runtime',\n",
              "   'homepage': 'https://docs.microsoft.com/dotnet/core/',\n",
              "   'size': 768233,\n",
              "   'stargazers_count': 0,\n",
              "   'watchers_count': 0,\n",
              "   'language': 'C#',\n",
              "   'has_issues': False,\n",
              "   'has_projects': True,\n",
              "   'has_downloads': True,\n",
              "   'has_wiki': False,\n",
              "   'has_pages': False,\n",
              "   'has_discussions': False,\n",
              "   'forks_count': 0,\n",
              "   'mirror_url': None,\n",
              "   'archived': False,\n",
              "   'disabled': False,\n",
              "   'open_issues_count': 0,\n",
              "   'license': {'key': 'mit',\n",
              "    'name': 'MIT License',\n",
              "    'spdx_id': 'MIT',\n",
              "    'url': 'https://api.github.com/licenses/mit',\n",
              "    'node_id': 'MDc6TGljZW5zZTEz'},\n",
              "   'allow_forking': True,\n",
              "   'is_template': False,\n",
              "   'web_commit_signoff_required': False,\n",
              "   'topics': [],\n",
              "   'visibility': 'public',\n",
              "   'forks': 0,\n",
              "   'open_issues': 0,\n",
              "   'watchers': 0,\n",
              "   'default_branch': 'main'}},\n",
              " 'base': {'label': 'dotnet:main',\n",
              "  'ref': 'main',\n",
              "  'sha': '21f356a4f955bcff66f84762be4826ba605a3645',\n",
              "  'user': {'login': 'dotnet',\n",
              "   'id': 9141961,\n",
              "   'node_id': 'MDEyOk9yZ2FuaXphdGlvbjkxNDE5NjE=',\n",
              "   'avatar_url': 'https://avatars.githubusercontent.com/u/9141961?v=4',\n",
              "   'gravatar_id': '',\n",
              "   'url': 'https://api.github.com/users/dotnet',\n",
              "   'html_url': 'https://github.com/dotnet',\n",
              "   'followers_url': 'https://api.github.com/users/dotnet/followers',\n",
              "   'following_url': 'https://api.github.com/users/dotnet/following{/other_user}',\n",
              "   'gists_url': 'https://api.github.com/users/dotnet/gists{/gist_id}',\n",
              "   'starred_url': 'https://api.github.com/users/dotnet/starred{/owner}{/repo}',\n",
              "   'subscriptions_url': 'https://api.github.com/users/dotnet/subscriptions',\n",
              "   'organizations_url': 'https://api.github.com/users/dotnet/orgs',\n",
              "   'repos_url': 'https://api.github.com/users/dotnet/repos',\n",
              "   'events_url': 'https://api.github.com/users/dotnet/events{/privacy}',\n",
              "   'received_events_url': 'https://api.github.com/users/dotnet/received_events',\n",
              "   'type': 'Organization',\n",
              "   'site_admin': False},\n",
              "  'repo': {'id': 210716005,\n",
              "   'node_id': 'MDEwOlJlcG9zaXRvcnkyMTA3MTYwMDU=',\n",
              "   'name': 'runtime',\n",
              "   'full_name': 'dotnet/runtime',\n",
              "   'private': False,\n",
              "   'owner': {'login': 'dotnet',\n",
              "    'id': 9141961,\n",
              "    'node_id': 'MDEyOk9yZ2FuaXphdGlvbjkxNDE5NjE=',\n",
              "    'avatar_url': 'https://avatars.githubusercontent.com/u/9141961?v=4',\n",
              "    'gravatar_id': '',\n",
              "    'url': 'https://api.github.com/users/dotnet',\n",
              "    'html_url': 'https://github.com/dotnet',\n",
              "    'followers_url': 'https://api.github.com/users/dotnet/followers',\n",
              "    'following_url': 'https://api.github.com/users/dotnet/following{/other_user}',\n",
              "    'gists_url': 'https://api.github.com/users/dotnet/gists{/gist_id}',\n",
              "    'starred_url': 'https://api.github.com/users/dotnet/starred{/owner}{/repo}',\n",
              "    'subscriptions_url': 'https://api.github.com/users/dotnet/subscriptions',\n",
              "    'organizations_url': 'https://api.github.com/users/dotnet/orgs',\n",
              "    'repos_url': 'https://api.github.com/users/dotnet/repos',\n",
              "    'events_url': 'https://api.github.com/users/dotnet/events{/privacy}',\n",
              "    'received_events_url': 'https://api.github.com/users/dotnet/received_events',\n",
              "    'type': 'Organization',\n",
              "    'site_admin': False},\n",
              "   'html_url': 'https://github.com/dotnet/runtime',\n",
              "   'description': '.NET is a cross-platform runtime for cloud, mobile, desktop, and IoT apps.',\n",
              "   'fork': False,\n",
              "   'url': 'https://api.github.com/repos/dotnet/runtime',\n",
              "   'forks_url': 'https://api.github.com/repos/dotnet/runtime/forks',\n",
              "   'keys_url': 'https://api.github.com/repos/dotnet/runtime/keys{/key_id}',\n",
              "   'collaborators_url': 'https://api.github.com/repos/dotnet/runtime/collaborators{/collaborator}',\n",
              "   'teams_url': 'https://api.github.com/repos/dotnet/runtime/teams',\n",
              "   'hooks_url': 'https://api.github.com/repos/dotnet/runtime/hooks',\n",
              "   'issue_events_url': 'https://api.github.com/repos/dotnet/runtime/issues/events{/number}',\n",
              "   'events_url': 'https://api.github.com/repos/dotnet/runtime/events',\n",
              "   'assignees_url': 'https://api.github.com/repos/dotnet/runtime/assignees{/user}',\n",
              "   'branches_url': 'https://api.github.com/repos/dotnet/runtime/branches{/branch}',\n",
              "   'tags_url': 'https://api.github.com/repos/dotnet/runtime/tags',\n",
              "   'blobs_url': 'https://api.github.com/repos/dotnet/runtime/git/blobs{/sha}',\n",
              "   'git_tags_url': 'https://api.github.com/repos/dotnet/runtime/git/tags{/sha}',\n",
              "   'git_refs_url': 'https://api.github.com/repos/dotnet/runtime/git/refs{/sha}',\n",
              "   'trees_url': 'https://api.github.com/repos/dotnet/runtime/git/trees{/sha}',\n",
              "   'statuses_url': 'https://api.github.com/repos/dotnet/runtime/statuses/{sha}',\n",
              "   'languages_url': 'https://api.github.com/repos/dotnet/runtime/languages',\n",
              "   'stargazers_url': 'https://api.github.com/repos/dotnet/runtime/stargazers',\n",
              "   'contributors_url': 'https://api.github.com/repos/dotnet/runtime/contributors',\n",
              "   'subscribers_url': 'https://api.github.com/repos/dotnet/runtime/subscribers',\n",
              "   'subscription_url': 'https://api.github.com/repos/dotnet/runtime/subscription',\n",
              "   'commits_url': 'https://api.github.com/repos/dotnet/runtime/commits{/sha}',\n",
              "   'git_commits_url': 'https://api.github.com/repos/dotnet/runtime/git/commits{/sha}',\n",
              "   'comments_url': 'https://api.github.com/repos/dotnet/runtime/comments{/number}',\n",
              "   'issue_comment_url': 'https://api.github.com/repos/dotnet/runtime/issues/comments{/number}',\n",
              "   'contents_url': 'https://api.github.com/repos/dotnet/runtime/contents/{+path}',\n",
              "   'compare_url': 'https://api.github.com/repos/dotnet/runtime/compare/{base}...{head}',\n",
              "   'merges_url': 'https://api.github.com/repos/dotnet/runtime/merges',\n",
              "   'archive_url': 'https://api.github.com/repos/dotnet/runtime/{archive_format}{/ref}',\n",
              "   'downloads_url': 'https://api.github.com/repos/dotnet/runtime/downloads',\n",
              "   'issues_url': 'https://api.github.com/repos/dotnet/runtime/issues{/number}',\n",
              "   'pulls_url': 'https://api.github.com/repos/dotnet/runtime/pulls{/number}',\n",
              "   'milestones_url': 'https://api.github.com/repos/dotnet/runtime/milestones{/number}',\n",
              "   'notifications_url': 'https://api.github.com/repos/dotnet/runtime/notifications{?since,all,participating}',\n",
              "   'labels_url': 'https://api.github.com/repos/dotnet/runtime/labels{/name}',\n",
              "   'releases_url': 'https://api.github.com/repos/dotnet/runtime/releases{/id}',\n",
              "   'deployments_url': 'https://api.github.com/repos/dotnet/runtime/deployments',\n",
              "   'created_at': '2019-09-24T23:36:39Z',\n",
              "   'updated_at': '2024-05-30T15:11:09Z',\n",
              "   'pushed_at': '2024-05-30T15:21:48Z',\n",
              "   'git_url': 'git://github.com/dotnet/runtime.git',\n",
              "   'ssh_url': 'git@github.com:dotnet/runtime.git',\n",
              "   'clone_url': 'https://github.com/dotnet/runtime.git',\n",
              "   'svn_url': 'https://github.com/dotnet/runtime',\n",
              "   'homepage': 'https://docs.microsoft.com/dotnet/core/',\n",
              "   'size': 790045,\n",
              "   'stargazers_count': 14317,\n",
              "   'watchers_count': 14317,\n",
              "   'language': 'C#',\n",
              "   'has_issues': True,\n",
              "   'has_projects': True,\n",
              "   'has_downloads': True,\n",
              "   'has_wiki': False,\n",
              "   'has_pages': False,\n",
              "   'has_discussions': True,\n",
              "   'forks_count': 4481,\n",
              "   'mirror_url': None,\n",
              "   'archived': False,\n",
              "   'disabled': False,\n",
              "   'open_issues_count': 9247,\n",
              "   'license': {'key': 'mit',\n",
              "    'name': 'MIT License',\n",
              "    'spdx_id': 'MIT',\n",
              "    'url': 'https://api.github.com/licenses/mit',\n",
              "    'node_id': 'MDc6TGljZW5zZTEz'},\n",
              "   'allow_forking': True,\n",
              "   'is_template': False,\n",
              "   'web_commit_signoff_required': False,\n",
              "   'topics': ['dotnet', 'hacktoberfest', 'help-wanted'],\n",
              "   'visibility': 'public',\n",
              "   'forks': 4481,\n",
              "   'open_issues': 9247,\n",
              "   'watchers': 14317,\n",
              "   'default_branch': 'main'}},\n",
              " '_links': {'self': {'href': 'https://api.github.com/repos/dotnet/runtime/pulls/102884'},\n",
              "  'html': {'href': 'https://github.com/dotnet/runtime/pull/102884'},\n",
              "  'issue': {'href': 'https://api.github.com/repos/dotnet/runtime/issues/102884'},\n",
              "  'comments': {'href': 'https://api.github.com/repos/dotnet/runtime/issues/102884/comments'},\n",
              "  'review_comments': {'href': 'https://api.github.com/repos/dotnet/runtime/pulls/102884/comments'},\n",
              "  'review_comment': {'href': 'https://api.github.com/repos/dotnet/runtime/pulls/comments{/number}'},\n",
              "  'commits': {'href': 'https://api.github.com/repos/dotnet/runtime/pulls/102884/commits'},\n",
              "  'statuses': {'href': 'https://api.github.com/repos/dotnet/runtime/statuses/bc38cb307143282ddf7ba761bc02f64b7c0188da'}},\n",
              " 'author_association': 'CONTRIBUTOR',\n",
              " 'auto_merge': None,\n",
              " 'active_lock_reason': None}"
            ]
          },
          "metadata": {},
          "execution_count": 12
        }
      ]
    },
    {
      "cell_type": "code",
      "source": [],
      "metadata": {
        "id": "8snNn0VfGaik"
      },
      "execution_count": null,
      "outputs": []
    }
  ]
}